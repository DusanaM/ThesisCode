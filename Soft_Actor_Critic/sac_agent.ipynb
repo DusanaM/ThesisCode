{
 "cells": [
  {
   "cell_type": "code",
   "execution_count": null,
   "metadata": {},
   "outputs": [],
   "source": [
    "import os\n",
    "import numpy as np\n",
    "import torch as T\n",
    "import torch.nn.functional as F\n",
    "from memory_buffer import ReplyBuffer\n",
    "from networks import ActorNetwork, ValueNetwork, CriticNetwork\n",
    "\n",
    "class Agent():\n",
    "    def __init__(self, input_dims, alpha=0.003, beta = 0.003, env = None, gamma = 0.99, n_actions = 2, max_size = 1000000, l1 = 256 , l2 = 256, batch_size = 256, reward_scale = 2):\n",
    "        \n",
    "        "
   ]
  }
 ],
 "metadata": {
  "language_info": {
   "name": "python"
  }
 },
 "nbformat": 4,
 "nbformat_minor": 2
}
